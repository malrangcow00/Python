{
 "cells": [
  {
   "cell_type": "markdown",
   "source": [
    "# SET & TUPLE"
   ],
   "metadata": {
    "collapsed": false
   },
   "id": "c1cd1c6ea1536298"
  },
  {
   "cell_type": "markdown",
   "source": [
    "Sets are similar to lists but are unordered and cannot contain duplications  \n",
    "Use curly brackets"
   ],
   "metadata": {
    "collapsed": false
   },
   "id": "c3b2e1144edbcd4e"
  },
  {
   "cell_type": "code",
   "execution_count": 5,
   "id": "initial_id",
   "metadata": {
    "collapsed": true,
    "ExecuteTime": {
     "end_time": "2024-04-15T08:16:58.963653Z",
     "start_time": "2024-04-15T08:16:58.959834Z"
    }
   },
   "outputs": [
    {
     "name": "stdout",
     "output_type": "stream",
     "text": [
      "{1, 2, 3, 4, 5}\n",
      "5\n",
      "1\n",
      "2\n",
      "3\n",
      "4\n",
      "5\n",
      "{1, 2, 4, 5}\n",
      "{1, 2, 4, 5, 6}\n",
      "{1, 2, 4, 5, 6, 7, 8}\n"
     ]
    }
   ],
   "source": [
    "my_set = {1, 2, 3, 4, 5, 1, 2}\n",
    "print(my_set)\n",
    "print(len(my_set))\n",
    "\n",
    "\n",
    "for x in my_set:\n",
    "    print(x)\n",
    "\n",
    "\n",
    "my_set.discard(3)\n",
    "print(my_set)\n",
    "my_set.add(6)\n",
    "print(my_set)\n",
    "my_set.update([7, 8])\n",
    "print(my_set)\n",
    "\n",
    "\n",
    "# # cause an error\n",
    "# my_tuple = (1, 2, 3, 4, 5)\n",
    "# print(my_tuple[1])\n",
    "# my_tuple[1] = 100\n",
    "\n"
   ]
  },
  {
   "cell_type": "markdown",
   "source": [
    "### add\n",
    "값을 1개 추가하는 메서드"
   ],
   "metadata": {
    "collapsed": false
   },
   "id": "fe8b9262d4eaa762"
  },
  {
   "cell_type": "markdown",
   "source": [
    "### update\n",
    "여러 개의 값을 한꺼번에 추가하는 메서드"
   ],
   "metadata": {
    "collapsed": false
   },
   "id": "28ff570d5c8ff651"
  },
  {
   "cell_type": "markdown",
   "source": [
    "### remove\n",
    "특정 값을 제거하는 메서드"
   ],
   "metadata": {
    "collapsed": false
   },
   "id": "99773574397644d4"
  },
  {
   "cell_type": "code",
   "outputs": [
    {
     "name": "stdout",
     "output_type": "stream",
     "text": [
      "50\n"
     ]
    }
   ],
   "source": [
    "print(100 >> 1)"
   ],
   "metadata": {
    "collapsed": false,
    "ExecuteTime": {
     "end_time": "2024-04-15T08:37:39.685053Z",
     "start_time": "2024-04-15T08:37:39.682046Z"
    }
   },
   "id": "ce1d05fc5ee2bdcf",
   "execution_count": 6
  }
 ],
 "metadata": {
  "kernelspec": {
   "display_name": "Python 3",
   "language": "python",
   "name": "python3"
  },
  "language_info": {
   "codemirror_mode": {
    "name": "ipython",
    "version": 2
   },
   "file_extension": ".py",
   "mimetype": "text/x-python",
   "name": "python",
   "nbconvert_exporter": "python",
   "pygments_lexer": "ipython2",
   "version": "2.7.6"
  }
 },
 "nbformat": 4,
 "nbformat_minor": 5
}
