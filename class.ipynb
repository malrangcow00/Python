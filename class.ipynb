{
 "cells": [
  {
   "cell_type": "markdown",
   "source": [
    "### 클래스 (Class)\n",
    "객체 지향 프로그래밍(OOP, Object-Oriented Programming)에서 특정 객체를 생성하기 위해 변수와 메서드를 정의하는 틀"
   ],
   "metadata": {
    "collapsed": false
   },
   "id": "ed6d9f104b46bdb"
  },
  {
   "cell_type": "markdown",
   "source": [
    "### Define Class\n",
    "클래스에서 변수는 변수 선언과 동일하고, 메서드는 사용자 정의 함수와 문법이 동일\n",
    "```python\n",
    "class 클래스명:\n",
    "    def 메서드명(self, 변수명, ...):\n",
    "        명령어\n",
    "        return 반환값\n",
    "```"
   ],
   "metadata": {
    "collapsed": false
   },
   "id": "cbfce67a356b2e49"
  },
  {
   "cell_type": "code",
   "outputs": [],
   "source": [
    "# 파이썬에서는 함수명에 입력받을 값(매개변수) 앞에 self라는 키워드를 적어야 한다\n",
    "class Choonsik:\n",
    "    def greeting(self):  # 입력받는 값이 없는 경우 self만 사용한다\n",
    "        return '안녕하세요'\n",
    "\n",
    "\n",
    "Choonsik().greeting()"
   ],
   "metadata": {
    "collapsed": false
   },
   "id": "ae5598dde4027845",
   "execution_count": null
  },
  {
   "cell_type": "markdown",
   "source": [
    "### Self\n",
    "현재 객체를 가리키는 키워드\n",
    "클래스 내부의 변수와 함수를 가리킬 수 있다\n",
    "```python\n",
    "self.변수명\n",
    "self.함수명(매개변수)\n",
    "```"
   ],
   "metadata": {
    "collapsed": false
   },
   "id": "bebb5230f700faf0"
  },
  {
   "cell_type": "code",
   "outputs": [],
   "source": [
    "class Choonsik:\n",
    "    def setChoonsik(self, name):\n",
    "        self.name = name\n",
    "\n",
    "    def getChoonsik(self):\n",
    "        return self.name\n",
    "\n",
    "\n",
    "saying = Choonsik()\n",
    "saying.setChoonsik('야옹')\n",
    "print(saying.getChoonsik())"
   ],
   "metadata": {
    "collapsed": false
   },
   "id": "ad6815c3646668b1",
   "execution_count": null
  },
  {
   "cell_type": "markdown",
   "source": [
    "1. saying 변수에 Choonsik 클래스를 할당\n",
    "2. setChoonsik 메서드를 호출하면서 '야옹'을 매개변수로 전달\n",
    "3. setChoonsik 메서드에서 self.name에 '야옹'을 할당\n",
    "4. getChoonsik 메서드를 호출하면서 self.name을 반환\n",
    "5. '야옹' 출력"
   ],
   "metadata": {
    "collapsed": false
   },
   "id": "9b5f8798e5f8bc23"
  },
  {
   "cell_type": "markdown",
   "source": [
    "### 생성자(Constructor)\n",
    "- 생성자는 해당 클래스의 객체가 생성될 때 자동으로 호출되는 특수한 종류의 메서드\n",
    "- 생성자는 __init__이라는 메서드 명을 사용하고, 첫 번째 매개변수로 self를 작성하며, 반환 값이 없다\n",
    "\n",
    "```python\n",
    "# 생성자 정의\n",
    "class 클래스명:\n",
    "    def __init__(self, 매개변수, ...):\n",
    "        명령어\n",
    "\n",
    "# 생성자 호출\n",
    "클래스변수 = 클래스(매개변수)\n",
    "```"
   ],
   "metadata": {
    "collapsed": false
   },
   "id": "bf6658e17800477d"
  },
  {
   "cell_type": "markdown",
   "source": [
    "### 소멸자(Destructor)\n",
    "- 소멸자는 객체의 수명이 끝났을 때 객체를 제거하기 위한 목적으로 상요되는 메서드\n",
    "- 소멸자는 __del__이라는 메서드 명을 사용하고, 첫 번째 매개변수로 self를 작성하며, 반환 값이 없다\n",
    "\n",
    "```python\n",
    "# 소멸자 정의\n",
    "class 클래스명:\n",
    "    def __del__(self):\n",
    "        명령어\n",
    "# 소멸자 호출\n",
    "del 클래스변수\n",
    "```"
   ],
   "metadata": {
    "collapsed": false
   },
   "id": "4b159c79c8e489c1"
  },
  {
   "cell_type": "code",
   "outputs": [],
   "source": [
    "class Choonsik:\n",
    "    def __init__(self):\n",
    "        print('self')\n",
    "\n",
    "    # 하나의 클래스 안에 동일한 이름의 메서드를 여러 번 정의하면, 가장 마지막에 정의된 메서드만 유효\n",
    "    def __init__(self, variable):\n",
    "        print('variable')\n",
    "\n",
    "    def __del__(self):\n",
    "        print('del')\n",
    "\n",
    "    def fn(self):\n",
    "        print('function')\n",
    "\n",
    "\n",
    "Choonsik = Choonsik(1)\n",
    "Choonsik.fn()\n",
    "del Choonsik"
   ],
   "metadata": {
    "collapsed": false
   },
   "id": "6759e7d75eb94854",
   "execution_count": null
  },
  {
   "cell_type": "markdown",
   "source": [
    "### 클래스 접근 제어자\n",
    "Python은 private, public 등의 접근제어자 키워드가 존재하지 않고 작명법(Naming)으로 접근제어를 한다\n",
    "<table>\n",
    "<tr>\n",
    "<th>\n",
    "종류\n",
    "</th>\n",
    "<th>\n",
    "규칙\n",
    "</th>\n",
    "<th>\n",
    "설명\n",
    "</th>\n",
    "</tr>\n",
    "<tr>\n",
    "<td>\n",
    "public\n",
    "</td>\n",
    "<td>\n",
    "밑줄이 접두사에 없어야 함\n",
    "</td>\n",
    "<td>\n",
    "외부의 모든 클래스에서 접근이 가능한 접근 제어자\n",
    "</td>\n",
    "</tr>\n",
    "<tr>\n",
    "<td>\n",
    "protected\n",
    "</td>\n",
    "<td>\n",
    "한 개의 밑줄 _이 접두사여야 한다\n",
    "</td>\n",
    "<td>\n",
    "- 같은 패키지 내부에 있는 클래스, 하위 클래스(상속받은 경우)에서 접근이 가능한 접근 제어자<br>\n",
    "- 자기 자신과 상속받은 하위 클래스 둘 다 접근이 가능한 접근 제어자\n",
    "</td>\n",
    "</tr>\n",
    "<tr>\n",
    "<td>\n",
    "private\n",
    "</td>\n",
    "<td>\n",
    "두 개의 밑줄 __이 접두사여야 한다\n",
    "</td>\n",
    "<td>\n",
    "같은 클래스 내에서만 접근이 가능한 접근 제어자\n",
    "</td>\n",
    "</tr>\n",
    "</table>"
   ],
   "metadata": {
    "collapsed": false
   },
   "id": "b0cae1c171358b67"
  },
  {
   "cell_type": "code",
   "outputs": [],
   "source": [
    "class Choonsik:\n",
    "    def __init__(self):\n",
    "        self.public = 'PUBLIC'\n",
    "        self._protected = 'PROTECTED'\n",
    "        self.__private = 'PRIVATE'\n",
    "\n",
    "    def fn(self):\n",
    "        print(self.public)\n",
    "        print(self._protected)\n",
    "        print(self.__private)\n",
    "\n",
    "\n",
    "choonsik_instance = Choonsik()\n",
    "choonsik_instance.fn()\n",
    "print()\n",
    "print(choonsik_instance.public)\n",
    "print(choonsik_instance._protected)\n",
    "\n",
    "\n",
    "# print(choonsik_instance.__private) # 에러 발생\n",
    "\n",
    "class MiniChoonsik(Choonsik):\n",
    "    def __init__(self):\n",
    "        super().__init__()\n",
    "        print(\"MiniChoonsik 생성\")\n",
    "\n",
    "    def sub_fn(self):\n",
    "        print(self.public)  # Public 속성 접근\n",
    "        print(self._protected)  # Protected 속성 접근 가능\n",
    "        # print(self.__private)  # Private 속성은 접근 불가\n",
    "\n",
    "\n",
    "# 객체 생성 및 메서드 호출\n",
    "mini_choonsik = MiniChoonsik()\n",
    "mini_choonsik.sub_fn()  # 서브클래스에서 protected 속성 접근"
   ],
   "metadata": {
    "collapsed": false
   },
   "id": "a340780c3db975cf",
   "execution_count": null
  },
  {
   "cell_type": "markdown",
   "source": [
    "### 클래스 상속\n",
    "어떤 객체가 있을 때 그 객체의 변수와 메서드를 다른 객체가 물려 받는 기능\n",
    "```python\n",
    "class 부모_클래스명:\n",
    "    명령어\n",
    "class 자식_클래스명(부모_클래스명):\n",
    "    명령어\n",
    "```"
   ],
   "metadata": {
    "collapsed": false
   },
   "id": "1d0c0fc6c3bfeaa6"
  },
  {
   "cell_type": "code",
   "outputs": [
    {
     "name": "stdout",
     "output_type": "stream",
     "text": [
      "춘식\n",
      "말랑카우\n"
     ]
    }
   ],
   "source": [
    "class ChoonsikDaddy:\n",
    "    def __init__(self):\n",
    "        self.parent_name = '말랑카우'\n",
    "\n",
    "    def dad_name(self):\n",
    "        return self.parent_name\n",
    "\n",
    "\n",
    "class Choonsik(ChoonsikDaddy):\n",
    "    def __init__(self):\n",
    "        super().__init__()\n",
    "        self.child_name = '춘식'\n",
    "\n",
    "    def son_name(self):\n",
    "        return self.child_name\n",
    "\n",
    "\n",
    "choonsik = Choonsik()\n",
    "print(choonsik.son_name())\n",
    "print(choonsik.dad_name())"
   ],
   "metadata": {
    "collapsed": false,
    "ExecuteTime": {
     "end_time": "2024-04-15T07:45:47.161812Z",
     "start_time": "2024-04-15T07:45:47.157699Z"
    }
   },
   "id": "38ae52c0449770c5",
   "execution_count": 3
  },
  {
   "cell_type": "markdown",
   "source": [
    "### 메서드 오버라이딩(Overriding)\n",
    "하위 클래스에서 상위 클래스 메서드를 재정의할 수 있는 기능\n",
    "- 오버라이드하고자 하는 메서드가 상위 클래스에 존재하여야 한다\n",
    "- 메서드 이름은 같아야 한다\n",
    "- 메서드 매개변수 개수, 데이터 타입이 같아야 한다\n",
    "\n",
    "```python\n",
    "class 부모_클래스명:\n",
    "    def 메서드명(self, 매개변수):\n",
    "        명령어\n",
    "class 자식_클래스명(부모_클래스명):\n",
    "    def 메서드명(self, 매개변수): # 부모 클래스와 메서드명, 매개변수가 같아야 함\n",
    "        명령어\n",
    "```"
   ],
   "metadata": {
    "collapsed": false
   },
   "id": "a24ce08429cbccc3"
  },
  {
   "cell_type": "code",
   "outputs": [
    {
     "name": "stdout",
     "output_type": "stream",
     "text": [
      "안녕하세요\n"
     ]
    }
   ],
   "source": [
    "class ChoonsikDaddy:\n",
    "    def hello(self):\n",
    "        print('반가워요')\n",
    "\n",
    "\n",
    "class Choonsik(ChoonsikDaddy):\n",
    "    def hello(self):\n",
    "        print('안녕하세요')\n",
    "\n",
    "\n",
    "choonsik = Choonsik()\n",
    "choonsik.hello()"
   ],
   "metadata": {
    "collapsed": false,
    "ExecuteTime": {
     "end_time": "2024-04-15T07:55:33.135382Z",
     "start_time": "2024-04-15T07:55:33.131547Z"
    }
   },
   "id": "101c83420eea1e25",
   "execution_count": 5
  },
  {
   "cell_type": "code",
   "outputs": [
    {
     "name": "stdout",
     "output_type": "stream",
     "text": [
      "A\n",
      "C\n",
      "D\n"
     ]
    }
   ],
   "source": [
    "class A:\n",
    "    def __init__(self):\n",
    "        print('A')\n",
    "\n",
    "    def fn(self):\n",
    "        print('B')\n",
    "\n",
    "\n",
    "class B(A):\n",
    "    def __init__(self):\n",
    "        print('C')\n",
    "\n",
    "    def fn(self):\n",
    "        print('D')\n",
    "\n",
    "\n",
    "a = A()\n",
    "b = B()\n",
    "b.fn()"
   ],
   "metadata": {
    "collapsed": false,
    "ExecuteTime": {
     "end_time": "2024-04-15T07:56:30.090769Z",
     "start_time": "2024-04-15T07:56:30.087770Z"
    }
   },
   "id": "d79a42c2ed2aa7d3",
   "execution_count": 6
  },
  {
   "cell_type": "markdown",
   "source": [
    "1. A 클래스 생성\n",
    "2. A 클래스의 생성자 호출\n",
    "3. A 출력\n",
    "4. B 클래스 생성\n",
    "5. B 클래스 생성자 호출\n",
    "6. C 출력\n",
    "7. b 변수는 B 클래스이므로 B 클래스의 fn 메서드 호출\n",
    "8. fn 메서드 실행\n",
    "9. D 출력"
   ],
   "metadata": {
    "collapsed": false
   },
   "id": "4f54707e7a681639"
  },
  {
   "cell_type": "markdown",
   "source": [
    "### 부모 클래스 접근\n",
    "Python은 super()를 사용하여 상위 클래스의 변수나 메서드에 접근할 수 있다\n",
    "```python\n",
    "super().메서드명()\n",
    "```"
   ],
   "metadata": {
    "collapsed": false
   },
   "id": "7e3bca2abfec8776"
  },
  {
   "cell_type": "code",
   "outputs": [
    {
     "name": "stdout",
     "output_type": "stream",
     "text": [
      "A\n",
      "B\n"
     ]
    }
   ],
   "source": [
    "class A:\n",
    "    def fn(self):\n",
    "        print('A')\n",
    "\n",
    "\n",
    "class B(A):\n",
    "    def fn(self):\n",
    "        super().fn()\n",
    "        print('B')\n",
    "\n",
    "\n",
    "a = B()\n",
    "a.fn()"
   ],
   "metadata": {
    "collapsed": false,
    "ExecuteTime": {
     "end_time": "2024-04-15T08:00:01.914075Z",
     "start_time": "2024-04-15T08:00:01.910483Z"
    }
   },
   "id": "8d55bc0c4927af9b",
   "execution_count": 7
  },
  {
   "cell_type": "markdown",
   "source": [
    "1. a 변수에 B 클래스 생성\n",
    "2. a 변수는 B 클래스이므로 B 클래스의 fn 메서드를 호출\n",
    "3. B 클래스의 fn 메서드에서 self는 현재 객체\n",
    "4. B의 부모 클래스는 A이므로 super().fn()에 의해 A 클래스의 fn 메서드를 호출\n",
    "5. A 클래스의 fn 메서드에서 self는 현재 객체\n",
    "6. A를 출력한 후 A 클래스 fn 메서드를 호출한 부분으로 이동\n",
    "7. B를 출력"
   ],
   "metadata": {
    "collapsed": false
   },
   "id": "dbeae1ed5f28efb6"
  },
  {
   "cell_type": "code",
   "outputs": [
    {
     "name": "stdout",
     "output_type": "stream",
     "text": [
      "12\n"
     ]
    }
   ],
   "source": [
    "class A:\n",
    "    a = 0\n",
    "\n",
    "    def __init__(self):\n",
    "        self.a += 2\n",
    "\n",
    "    def fn(self):\n",
    "        self.a += 3\n",
    "\n",
    "\n",
    "class B(A):\n",
    "    def __init__(self):\n",
    "        self.a += 5\n",
    "        # super().__init__() # super() 유무 차이 인지하기\n",
    "\n",
    "    def fn(self):\n",
    "        self.a += 7\n",
    "\n",
    "\n",
    "a = B()\n",
    "a.fn()\n",
    "print(a.a)"
   ],
   "metadata": {
    "collapsed": false,
    "ExecuteTime": {
     "end_time": "2024-04-16T07:13:54.252952Z",
     "start_time": "2024-04-16T07:13:54.249457Z"
    }
   },
   "id": "cf907eb523f2bf7",
   "execution_count": 25
  }
 ],
 "metadata": {
  "kernelspec": {
   "display_name": "Python 3",
   "language": "python",
   "name": "python3"
  },
  "language_info": {
   "codemirror_mode": {
    "name": "ipython",
    "version": 2
   },
   "file_extension": ".py",
   "mimetype": "text/x-python",
   "name": "python",
   "nbconvert_exporter": "python",
   "pygments_lexer": "ipython2",
   "version": "2.7.6"
  }
 },
 "nbformat": 4,
 "nbformat_minor": 5
}
