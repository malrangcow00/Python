{
 "cells": [
  {
   "cell_type": "markdown",
   "source": [
    "<table>\n",
    "<tr>\n",
    "<th>\n",
    "유형\n",
    "</th>\n",
    "<th>\n",
    "설명\n",
    "</th>\n",
    "<th>\n",
    "세부 유형\n",
    "</th>\n",
    "</tr>\n",
    "<tr>\n",
    "<td>\n",
    "기본 자료형<br>\n",
    "(Primitive Data Type)\n",
    "</td>\n",
    "<td>\n",
    "직접 자룔르 표현하는 자료형\n",
    "</td>\n",
    "<td>\n",
    "숫자형(Number): 숫자를 저장하고자 할 때 사용하는 자료형 &rarr; 정수형(int), 실수형(float)<br>\n",
    "논리형(Logical, Boolean): 변수의 참, 거짓을 나타낼 때 사용하는 자료형 &rarr; True(참), False(거짓)\n",
    "</td>\n",
    "</tr>\n",
    "<tr>\n",
    "<td>\n",
    "컬렉션 자료형<br>\n",
    "(Collection Data Type)\n",
    "</td>\n",
    "<td>다수의 데이터를 효과적으로 처리할 수 있는 자료형\n",
    "</td>\n",
    "<td>\n",
    "시퀀스 자료형: 순서가 존재하는 자료형 &rarr; 문자열형(String), 리스트형(List), 튜플형(Tuple)<br>\n",
    "비시퀀스 자료형: 순서가 존재하지 않는 자료형 &rarr; 집합형(Set), 사전형(Dictionary)\n",
    "</table>"
   ],
   "metadata": {
    "collapsed": false
   },
   "id": "c2aa27d5ad0349a6"
  }
 ],
 "metadata": {
  "kernelspec": {
   "display_name": "Python 3",
   "language": "python",
   "name": "python3"
  },
  "language_info": {
   "codemirror_mode": {
    "name": "ipython",
    "version": 2
   },
   "file_extension": ".py",
   "mimetype": "text/x-python",
   "name": "python",
   "nbconvert_exporter": "python",
   "pygments_lexer": "ipython2",
   "version": "2.7.6"
  }
 },
 "nbformat": 4,
 "nbformat_minor": 5
}
