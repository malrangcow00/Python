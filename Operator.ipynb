{
 "cells": [
  {
   "cell_type": "markdown",
   "source": [
    "Bit "
   ],
   "metadata": {
    "collapsed": false
   },
   "id": "ad3595978adbf921"
  },
  {
   "cell_type": "code",
   "outputs": [
    {
     "name": "stdout",
     "output_type": "stream",
     "text": [
      "50\n"
     ]
    }
   ],
   "source": [
    "print(100 >> 1)"
   ],
   "metadata": {
    "collapsed": false,
    "ExecuteTime": {
     "end_time": "2024-04-15T08:42:00.605384Z",
     "start_time": "2024-04-15T08:42:00.602896Z"
    }
   },
   "id": "b0ca2524f8a3c72a",
   "execution_count": 3
  },
  {
   "cell_type": "markdown",
   "source": [
    "100 &rarr; 1100100(2)\n",
    "1100100(2) >> 1 &rarr; 110010(2) = 50"
   ],
   "metadata": {
    "collapsed": false
   },
   "id": "71b5142e5e597546"
  }
 ],
 "metadata": {
  "kernelspec": {
   "display_name": "Python 3",
   "language": "python",
   "name": "python3"
  },
  "language_info": {
   "codemirror_mode": {
    "name": "ipython",
    "version": 2
   },
   "file_extension": ".py",
   "mimetype": "text/x-python",
   "name": "python",
   "nbconvert_exporter": "python",
   "pygments_lexer": "ipython2",
   "version": "2.7.6"
  }
 },
 "nbformat": 4,
 "nbformat_minor": 5
}
