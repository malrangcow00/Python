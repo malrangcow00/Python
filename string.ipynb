{
 "cells": [
  {
   "cell_type": "markdown",
   "source": [
    "# String"
   ],
   "metadata": {
    "collapsed": false
   },
   "id": "c6100aba03a03086"
  },
  {
   "cell_type": "markdown",
   "source": [
    "'''\n",
    "String Assignment we will do together:\n",
    "\n",
    "Ask the user how many days until their birthday\n",
    "and print an approx number of weeks until their birthday\n",
    "\n",
    "Weeks is = 7 days\n",
    "\n",
    "decimals within the return is allowed..\n",
    "'''"
   ],
   "metadata": {
    "collapsed": false
   },
   "id": "2c8293d9c65213b7"
  },
  {
   "cell_type": "code",
   "outputs": [
    {
     "name": "stdout",
     "output_type": "stream",
     "text": [
      "Approx number of weeks until your birthday: 4.29\n"
     ]
    }
   ],
   "source": [
    "days = int(input(\"How many days until your birthday? \"))\n",
    "\n",
    "print(\"Approx number of weeks until your birthday:\", round(days/7, 2))"
   ],
   "metadata": {
    "collapsed": false,
    "ExecuteTime": {
     "end_time": "2024-04-16T00:27:40.142538Z",
     "start_time": "2024-04-16T00:27:39.280072Z"
    }
   },
   "id": "7c40bbbdfd405873",
   "execution_count": 9
  },
  {
   "cell_type": "markdown",
   "source": [
    "### String Formatting"
   ],
   "metadata": {
    "collapsed": false
   },
   "id": "94afec9103208ebc"
  },
  {
   "cell_type": "code",
   "outputs": [
    {
     "name": "stdout",
     "output_type": "stream",
     "text": [
      "Hi Malrang Cow\n",
      "Hi Malrang Cow Nice 2 meet you\n"
     ]
    }
   ],
   "source": [
    "first_name = \"Malrang\"\n",
    "\n",
    "sentence = \"Hi {} {}\"\n",
    "last_name = \"Cow\"\n",
    "print(sentence.format(first_name, last_name))\n",
    "\n",
    "print(f\"Hi {first_name} {last_name} Nice 2 meet you\")"
   ],
   "metadata": {
    "collapsed": false,
    "ExecuteTime": {
     "end_time": "2024-04-16T00:25:40.294321Z",
     "start_time": "2024-04-16T00:25:40.291213Z"
    }
   },
   "id": "1b54b56d642d3cd1",
   "execution_count": 6
  },
  {
   "cell_type": "code",
   "outputs": [
    {
     "data": {
      "text/plain": "'my name is malrangcow and love choonsik'"
     },
     "execution_count": 3,
     "metadata": {},
     "output_type": "execute_result"
    }
   ],
   "source": [
    "sentence = \"my name is %s and love choonsik\" % \"malrangcow\"\n",
    "sentence"
   ],
   "metadata": {
    "collapsed": false,
    "ExecuteTime": {
     "end_time": "2024-04-16T00:25:08.739729Z",
     "start_time": "2024-04-16T00:25:08.736808Z"
    }
   },
   "id": "51436075aa21f3f7",
   "execution_count": 3
  }
 ],
 "metadata": {
  "kernelspec": {
   "display_name": "Python 3",
   "language": "python",
   "name": "python3"
  },
  "language_info": {
   "codemirror_mode": {
    "name": "ipython",
    "version": 2
   },
   "file_extension": ".py",
   "mimetype": "text/x-python",
   "name": "python",
   "nbconvert_exporter": "python",
   "pygments_lexer": "ipython2",
   "version": "2.7.6"
  }
 },
 "nbformat": 4,
 "nbformat_minor": 5
}
