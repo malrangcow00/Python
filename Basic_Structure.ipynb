{
 "cells": [
  {
   "cell_type": "markdown",
   "source": [
    "Python defines functions and classes first before executing the code."
   ],
   "metadata": {
    "collapsed": false
   },
   "id": "367dd1ba1508e27c"
  },
  {
   "cell_type": "code",
   "execution_count": null,
   "id": "initial_id",
   "metadata": {
    "collapsed": true
   },
   "outputs": [],
   "source": [
    "def fn(num):\n",
    "    if num % 2 == 0:\n",
    "        return 'Y'\n",
    "\n",
    "class A:\n",
    "    def fn(self):\n",
    "        print('A')\n",
    "\n",
    "print('Hello')\n",
    "A().fn()"
   ]
  }
 ],
 "metadata": {
  "kernelspec": {
   "display_name": "Python 3",
   "language": "python",
   "name": "python3"
  },
  "language_info": {
   "codemirror_mode": {
    "name": "ipython",
    "version": 2
   },
   "file_extension": ".py",
   "mimetype": "text/x-python",
   "name": "python",
   "nbconvert_exporter": "python",
   "pygments_lexer": "ipython2",
   "version": "2.7.6"
  }
 },
 "nbformat": 4,
 "nbformat_minor": 5
}
