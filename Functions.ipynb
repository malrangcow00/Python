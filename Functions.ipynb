{
 "cells": [
  {
   "cell_type": "markdown",
   "source": [
    "# Function"
   ],
   "metadata": {
    "collapsed": false
   },
   "id": "1b7be7349804b098"
  },
  {
   "cell_type": "code",
   "outputs": [],
   "source": [
    "def buy_item(cost_of_item):\n",
    "    return cost_of_item + add_tax_to_item(cost_of_item)\n",
    "\n",
    "\n",
    "def add_tax_to_item(cost_of_item):\n",
    "    current_tax_rate = .03\n",
    "    return cost_of_item * current_tax_rate\n",
    "\n",
    "\n",
    "final_cost = buy_item(50)\n",
    "print(final_cost)"
   ],
   "metadata": {
    "collapsed": false
   },
   "id": "initial_id",
   "execution_count": 0
  }
 ],
 "metadata": {
  "kernelspec": {
   "display_name": "Python 3",
   "language": "python",
   "name": "python3"
  },
  "language_info": {
   "codemirror_mode": {
    "name": "ipython",
    "version": 2
   },
   "file_extension": ".py",
   "mimetype": "text/x-python",
   "name": "python",
   "nbconvert_exporter": "python",
   "pygments_lexer": "ipython2",
   "version": "2.7.6"
  }
 },
 "nbformat": 4,
 "nbformat_minor": 5
}
