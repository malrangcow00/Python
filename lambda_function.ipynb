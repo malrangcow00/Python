{
 "cells": [
  {
   "cell_type": "markdown",
   "source": [
    "# Lambda Function"
   ],
   "metadata": {
    "collapsed": false
   },
   "id": "3f079d49f3c909f6"
  },
  {
   "cell_type": "markdown",
   "source": [
    "### 일반 람다 함수\n",
    "```python\n",
    "lambda 매개변수 : 표현식\n",
    "```\n",
    "람다 함수는 콜론(:) 앞에서 매개변수를 입력받고, 콜론 뒤에서 표현식을 처리한다."
   ],
   "metadata": {
    "collapsed": false
   },
   "id": "e9b59742c4db30ee"
  },
  {
   "cell_type": "markdown",
   "source": [],
   "metadata": {
    "collapsed": false
   },
   "id": "5b6b74a696395561"
  },
  {
   "cell_type": "code",
   "outputs": [
    {
     "data": {
      "text/plain": "5"
     },
     "execution_count": 1,
     "metadata": {},
     "output_type": "execute_result"
    }
   ],
   "source": [
    "(lambda n, m : n + m)(2, 3)"
   ],
   "metadata": {
    "collapsed": false,
    "ExecuteTime": {
     "end_time": "2024-04-15T04:34:12.996067Z",
     "start_time": "2024-04-15T04:34:12.990822Z"
    }
   },
   "id": "dc79328deecf2a4b",
   "execution_count": 1
  },
  {
   "cell_type": "markdown",
   "source": [
    "### 변수를 이용한 람다 함수\n",
    "람다 함수를 변수에 할당하여 재사용할 수 있다"
   ],
   "metadata": {
    "collapsed": false
   },
   "id": "ef73867f8d491cad"
  },
  {
   "cell_type": "code",
   "execution_count": 3,
   "id": "initial_id",
   "metadata": {
    "collapsed": true,
    "ExecuteTime": {
     "end_time": "2024-04-15T04:35:59.100274Z",
     "start_time": "2024-04-15T04:35:59.097634Z"
    }
   },
   "outputs": [
    {
     "name": "stdout",
     "output_type": "stream",
     "text": [
      "5\n"
     ]
    }
   ],
   "source": [
    "sum = lambda n, m : n + m # 매개변수 n과 m을 전달받아 n과 m를 더한 결과를 sum에 대입\n",
    "# print(sum(2, 3))"
   ]
  },
  {
   "cell_type": "markdown",
   "source": [
    "### 사용자 정의 함수를 이용한 람다 함수\n",
    "람다 함수는 사용자 정의 함수로 구현할 수 있다"
   ],
   "metadata": {
    "collapsed": false
   },
   "id": "41456784bb26aee"
  },
  {
   "cell_type": "code",
   "outputs": [
    {
     "name": "stdout",
     "output_type": "stream",
     "text": [
      "30\n"
     ]
    }
   ],
   "source": [
    "def f(n):\n",
    "    return lambda a: a*n\n",
    "k = f(3)\n",
    "print(k(10))"
   ],
   "metadata": {
    "collapsed": false,
    "ExecuteTime": {
     "end_time": "2024-04-15T04:37:39.928582Z",
     "start_time": "2024-04-15T04:37:39.925116Z"
    }
   },
   "id": "d0627f702aed0213",
   "execution_count": 4
  },
  {
   "cell_type": "markdown",
   "source": [
    "1. f(3)에 의해서 호출되었기 때문에 n은 3이 된다\n",
    "2. n이 3이므로 return 값인 lambda a:a*3을 반환\n",
    "3. 반환된 람다 함수를 k에 저장\n",
    "4. k(10)을 호출하면 람다 함수가 실행되어 10*3의 결과인 30을 반환\n",
    "5. 반환된 30을 print 함수로 출력"
   ],
   "metadata": {
    "collapsed": false
   },
   "id": "e5c257b7db838336"
  },
  {
   "cell_type": "markdown",
   "source": [
    "### 내장 함수를 이용한 람다 함수\n",
    "람다 함수는 Python map 함수, filter 함수, reduce 함수와 함께 사용할 수 있다\n",
    "\n",
    "1. map(함수, 리스트)\n",
    "    - 첫 번째 매개변수에는 함수, 두 번째 매개변수에는 리스트를 전달\n",
    "    - 리스트 요소를 함수에 전달하여 반복을 수행하는 함수\n",
    "2. filter(함수, 리스트)\n",
    "    - 첫 번째 매개변수에는 함수, 두 번째 매개변수에는 리스트를 전달\n",
    "    - 리스트 요소를 함수에 전달하여 True인 요소만 반환하는 함수"
   ],
   "metadata": {
    "collapsed": false
   },
   "id": "b01b6d7c59f79603"
  },
  {
   "cell_type": "code",
   "outputs": [
    {
     "name": "stdout",
     "output_type": "stream",
     "text": [
      "[101, 102, 103, 104, 105]\n"
     ]
    }
   ],
   "source": [
    "a = [1, 2, 3, 4, 5]\n",
    "m = list(map(lambda num : num + 100, a))\n",
    "print(m)"
   ],
   "metadata": {
    "collapsed": false,
    "ExecuteTime": {
     "end_time": "2024-04-15T04:59:20.646366Z",
     "start_time": "2024-04-15T04:59:20.642783Z"
    }
   },
   "id": "e71f884e447eb8cd",
   "execution_count": 6
  },
  {
   "cell_type": "code",
   "outputs": [
    {
     "name": "stdout",
     "output_type": "stream",
     "text": [
      "[3, 4, 5]\n"
     ]
    }
   ],
   "source": [
    "a = [1, 2, 3, 4, 5]\n",
    "m = list(filter(lambda num : num > 2, a))  \n",
    "print(m)"
   ],
   "metadata": {
    "collapsed": false,
    "ExecuteTime": {
     "end_time": "2024-04-15T04:59:53.407863Z",
     "start_time": "2024-04-15T04:59:53.405246Z"
    }
   },
   "id": "62d682aee8919ab3",
   "execution_count": 7
  }
 ],
 "metadata": {
  "kernelspec": {
   "display_name": "Python 3",
   "language": "python",
   "name": "python3"
  },
  "language_info": {
   "codemirror_mode": {
    "name": "ipython",
    "version": 2
   },
   "file_extension": ".py",
   "mimetype": "text/x-python",
   "name": "python",
   "nbconvert_exporter": "python",
   "pygments_lexer": "ipython2",
   "version": "2.7.6"
  }
 },
 "nbformat": 4,
 "nbformat_minor": 5
}
